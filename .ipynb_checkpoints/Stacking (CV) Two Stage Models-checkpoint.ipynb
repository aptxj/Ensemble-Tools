{
 "cells": [
  {
   "cell_type": "code",
   "execution_count": 1,
   "metadata": {
    "collapsed": false
   },
   "outputs": [],
   "source": [
    "'''\n",
    "See: https://github.com/emanuele/kaggle_pbr/blob/master/blend.py\n",
    "     http://mlwave.com/kaggle-ensembling-guide/ \n",
    "     https://github.com/MLWave/Kaggle-Ensemble-Guide\n",
    "\n",
    "'''\n",
    "\n",
    "from __future__ import division\n",
    "import numpy as np\n",
    "from sklearn.cross_validation import StratifiedKFold\n",
    "from sklearn.ensemble import RandomForestClassifier, ExtraTreesClassifier, GradientBoostingClassifier\n",
    "from sklearn.linear_model import LogisticRegression\n",
    "import pandas as pd\n",
    "from sklearn.datasets import make_moons, make_circles, make_classification"
   ]
  },
  {
   "cell_type": "code",
   "execution_count": 2,
   "metadata": {
    "collapsed": true
   },
   "outputs": [],
   "source": [
    "### Pick your paramters\n",
    "n_folds = 5\n",
    "verbose = True\n",
    "shuffle = False"
   ]
  },
  {
   "cell_type": "code",
   "execution_count": 3,
   "metadata": {
    "collapsed": true
   },
   "outputs": [],
   "source": [
    "### Load some data\n",
    "X, y = make_classification(n_samples=2000, n_features=20, n_informative=12, \n",
    "                           n_redundant=2, n_repeated=0, n_classes=2)\n",
    "X, X_submission = X[0:1300],X[1300:]\n",
    "y, y_submission_actual = y[0:1300],y[1300:]\n"
   ]
  },
  {
   "cell_type": "code",
   "execution_count": 4,
   "metadata": {
    "collapsed": false
   },
   "outputs": [
    {
     "name": "stdout",
     "output_type": "stream",
     "text": [
      "(1300, 20)\n",
      "(700, 20)\n",
      "(1300,)\n"
     ]
    }
   ],
   "source": [
    "print np.shape(X)\n",
    "print np.shape(X_submission)\n",
    "print np.shape(y)"
   ]
  },
  {
   "cell_type": "code",
   "execution_count": 5,
   "metadata": {
    "collapsed": false
   },
   "outputs": [],
   "source": [
    "### Can introduce another round of randomness by shuffleing around the indices\n",
    "if shuffle:\n",
    "    idx = np.random.permutation(y.size)\n",
    "    X = X[idx]\n",
    "    y = y[idx]\n",
    "    "
   ]
  },
  {
   "cell_type": "code",
   "execution_count": 6,
   "metadata": {
    "collapsed": false,
    "scrolled": true
   },
   "outputs": [
    {
     "data": {
      "text/plain": [
       "[(array([ 246,  247,  248, ..., 1297, 1298, 1299]),\n",
       "  array([  0,   1,   2,   3,   4,   5,   6,   7,   8,   9,  10,  11,  12,\n",
       "          13,  14,  15,  16,  17,  18,  19,  20,  21,  22,  23,  24,  25,\n",
       "          26,  27,  28,  29,  30,  31,  32,  33,  34,  35,  36,  37,  38,\n",
       "          39,  40,  41,  42,  43,  44,  45,  46,  47,  48,  49,  50,  51,\n",
       "          52,  53,  54,  55,  56,  57,  58,  59,  60,  61,  62,  63,  64,\n",
       "          65,  66,  67,  68,  69,  70,  71,  72,  73,  74,  75,  76,  77,\n",
       "          78,  79,  80,  81,  82,  83,  84,  85,  86,  87,  88,  89,  90,\n",
       "          91,  92,  93,  94,  95,  96,  97,  98,  99, 100, 101, 102, 103,\n",
       "         104, 105, 106, 107, 108, 109, 110, 111, 112, 113, 114, 115, 116,\n",
       "         117, 118, 119, 120, 121, 122, 123, 124, 125, 126, 127, 128, 129,\n",
       "         130, 131, 132, 133, 134, 135, 136, 137, 138, 139, 140, 141, 142,\n",
       "         143, 144, 145, 146, 147, 148, 149, 150, 151, 152, 153, 154, 155,\n",
       "         156, 157, 158, 159, 160, 161, 162, 163, 164, 165, 166, 167, 168,\n",
       "         169, 170, 171, 172, 173, 174, 175, 176, 177, 178, 179, 180, 181,\n",
       "         182, 183, 184, 185, 186, 187, 188, 189, 190, 191, 192, 193, 194,\n",
       "         195, 196, 197, 198, 199, 200, 201, 202, 203, 204, 205, 206, 207,\n",
       "         208, 209, 210, 211, 212, 213, 214, 215, 216, 217, 218, 219, 220,\n",
       "         221, 222, 223, 224, 225, 226, 227, 228, 229, 230, 231, 232, 233,\n",
       "         234, 235, 236, 237, 238, 239, 240, 241, 242, 243, 244, 245, 249,\n",
       "         251, 253, 256, 263, 264, 265, 267, 268, 269, 275, 276, 279, 282, 283])),\n",
       " (array([   0,    1,    2, ..., 1297, 1298, 1299]),\n",
       "  array([246, 247, 248, 250, 252, 254, 255, 257, 258, 259, 260, 261, 262,\n",
       "         266, 270, 271, 272, 273, 274, 277, 278, 280, 281, 284, 285, 286,\n",
       "         287, 288, 289, 290, 291, 292, 293, 294, 295, 296, 297, 298, 299,\n",
       "         300, 301, 302, 303, 304, 305, 306, 307, 308, 309, 310, 311, 312,\n",
       "         313, 314, 315, 316, 317, 318, 319, 320, 321, 322, 323, 324, 325,\n",
       "         326, 327, 328, 329, 330, 331, 332, 333, 334, 335, 336, 337, 338,\n",
       "         339, 340, 341, 342, 343, 344, 345, 346, 347, 348, 349, 350, 351,\n",
       "         352, 353, 354, 355, 356, 357, 358, 359, 360, 361, 362, 363, 364,\n",
       "         365, 366, 367, 368, 369, 370, 371, 372, 373, 374, 375, 376, 377,\n",
       "         378, 379, 380, 381, 382, 383, 384, 385, 386, 387, 388, 389, 390,\n",
       "         391, 392, 393, 394, 395, 396, 397, 398, 399, 400, 401, 402, 403,\n",
       "         404, 405, 406, 407, 408, 409, 410, 411, 412, 413, 414, 415, 416,\n",
       "         417, 418, 419, 420, 421, 422, 423, 424, 425, 426, 427, 428, 429,\n",
       "         430, 431, 432, 433, 434, 435, 436, 437, 438, 439, 440, 441, 442,\n",
       "         443, 444, 445, 446, 447, 448, 449, 450, 451, 452, 453, 454, 455,\n",
       "         456, 457, 458, 459, 460, 461, 462, 463, 464, 465, 466, 467, 468,\n",
       "         469, 470, 471, 472, 473, 474, 475, 476, 477, 478, 479, 480, 481,\n",
       "         482, 483, 484, 485, 486, 487, 488, 489, 490, 491, 492, 493, 494,\n",
       "         495, 496, 497, 498, 499, 500, 501, 502, 503, 505, 506, 507, 508,\n",
       "         509, 515, 516, 518, 519, 520, 522, 523, 524, 525, 527, 528, 530, 531])),\n",
       " (array([   0,    1,    2, ..., 1297, 1298, 1299]),\n",
       "  array([504, 510, 511, 512, 513, 514, 517, 521, 526, 529, 532, 533, 534,\n",
       "         535, 536, 537, 538, 539, 540, 541, 542, 543, 544, 545, 546, 547,\n",
       "         548, 549, 550, 551, 552, 553, 554, 555, 556, 557, 558, 559, 560,\n",
       "         561, 562, 563, 564, 565, 566, 567, 568, 569, 570, 571, 572, 573,\n",
       "         574, 575, 576, 577, 578, 579, 580, 581, 582, 583, 584, 585, 586,\n",
       "         587, 588, 589, 590, 591, 592, 593, 594, 595, 596, 597, 598, 599,\n",
       "         600, 601, 602, 603, 604, 605, 606, 607, 608, 609, 610, 611, 612,\n",
       "         613, 614, 615, 616, 617, 618, 619, 620, 621, 622, 623, 624, 625,\n",
       "         626, 627, 628, 629, 630, 631, 632, 633, 634, 635, 636, 637, 638,\n",
       "         639, 640, 641, 642, 643, 644, 645, 646, 647, 648, 649, 650, 651,\n",
       "         652, 653, 654, 655, 656, 657, 658, 659, 660, 661, 662, 663, 664,\n",
       "         665, 666, 667, 668, 669, 670, 671, 672, 673, 674, 675, 676, 677,\n",
       "         678, 679, 680, 681, 682, 683, 684, 685, 686, 687, 688, 689, 690,\n",
       "         691, 692, 693, 694, 695, 696, 697, 698, 699, 700, 701, 702, 703,\n",
       "         704, 705, 706, 707, 708, 709, 710, 711, 712, 713, 714, 715, 716,\n",
       "         717, 718, 719, 720, 721, 722, 723, 724, 725, 726, 727, 728, 729,\n",
       "         730, 731, 732, 733, 734, 735, 736, 737, 738, 739, 740, 741, 742,\n",
       "         743, 744, 745, 746, 747, 748, 749, 750, 751, 752, 753, 754, 755,\n",
       "         756, 757, 758, 759, 760, 761, 762, 763, 764, 765, 768, 769, 770,\n",
       "         773, 774, 775, 777, 781, 785, 786, 788, 789, 790, 791, 794, 797])),\n",
       " (array([   0,    1,    2, ..., 1297, 1298, 1299]),\n",
       "  array([ 766,  767,  771,  772,  776,  778,  779,  780,  782,  783,  784,\n",
       "          787,  792,  793,  795,  796,  798,  799,  800,  801,  802,  803,\n",
       "          804,  805,  806,  807,  808,  809,  810,  811,  812,  813,  814,\n",
       "          815,  816,  817,  818,  819,  820,  821,  822,  823,  824,  825,\n",
       "          826,  827,  828,  829,  830,  831,  832,  833,  834,  835,  836,\n",
       "          837,  838,  839,  840,  841,  842,  843,  844,  845,  846,  847,\n",
       "          848,  849,  850,  851,  852,  853,  854,  855,  856,  857,  858,\n",
       "          859,  860,  861,  862,  863,  864,  865,  866,  867,  868,  869,\n",
       "          870,  871,  872,  873,  874,  875,  876,  877,  878,  879,  880,\n",
       "          881,  882,  883,  884,  885,  886,  887,  888,  889,  890,  891,\n",
       "          892,  893,  894,  895,  896,  897,  898,  899,  900,  901,  902,\n",
       "          903,  904,  905,  906,  907,  908,  909,  910,  911,  912,  913,\n",
       "          914,  915,  916,  917,  918,  919,  920,  921,  922,  923,  924,\n",
       "          925,  926,  927,  928,  929,  930,  931,  932,  933,  934,  935,\n",
       "          936,  937,  938,  939,  940,  941,  942,  943,  944,  945,  946,\n",
       "          947,  948,  949,  950,  951,  952,  953,  954,  955,  956,  957,\n",
       "          958,  959,  960,  961,  962,  963,  964,  965,  966,  967,  968,\n",
       "          969,  970,  971,  972,  973,  974,  975,  976,  977,  978,  979,\n",
       "          980,  981,  982,  983,  984,  985,  986,  987,  988,  989,  990,\n",
       "          991,  992,  993,  994,  995,  996,  997,  998,  999, 1000, 1001,\n",
       "         1002, 1003, 1004, 1005, 1006, 1007, 1008, 1009, 1010, 1011, 1012,\n",
       "         1013, 1014, 1015, 1016, 1017, 1018, 1019, 1020, 1021, 1022, 1024,\n",
       "         1025, 1026, 1027, 1028, 1029, 1030, 1033, 1035, 1037, 1039, 1040,\n",
       "         1041, 1042, 1046, 1047, 1048, 1049])),\n",
       " (array([   0,    1,    2, ..., 1047, 1048, 1049]),\n",
       "  array([1023, 1031, 1032, 1034, 1036, 1038, 1043, 1044, 1045, 1050, 1051,\n",
       "         1052, 1053, 1054, 1055, 1056, 1057, 1058, 1059, 1060, 1061, 1062,\n",
       "         1063, 1064, 1065, 1066, 1067, 1068, 1069, 1070, 1071, 1072, 1073,\n",
       "         1074, 1075, 1076, 1077, 1078, 1079, 1080, 1081, 1082, 1083, 1084,\n",
       "         1085, 1086, 1087, 1088, 1089, 1090, 1091, 1092, 1093, 1094, 1095,\n",
       "         1096, 1097, 1098, 1099, 1100, 1101, 1102, 1103, 1104, 1105, 1106,\n",
       "         1107, 1108, 1109, 1110, 1111, 1112, 1113, 1114, 1115, 1116, 1117,\n",
       "         1118, 1119, 1120, 1121, 1122, 1123, 1124, 1125, 1126, 1127, 1128,\n",
       "         1129, 1130, 1131, 1132, 1133, 1134, 1135, 1136, 1137, 1138, 1139,\n",
       "         1140, 1141, 1142, 1143, 1144, 1145, 1146, 1147, 1148, 1149, 1150,\n",
       "         1151, 1152, 1153, 1154, 1155, 1156, 1157, 1158, 1159, 1160, 1161,\n",
       "         1162, 1163, 1164, 1165, 1166, 1167, 1168, 1169, 1170, 1171, 1172,\n",
       "         1173, 1174, 1175, 1176, 1177, 1178, 1179, 1180, 1181, 1182, 1183,\n",
       "         1184, 1185, 1186, 1187, 1188, 1189, 1190, 1191, 1192, 1193, 1194,\n",
       "         1195, 1196, 1197, 1198, 1199, 1200, 1201, 1202, 1203, 1204, 1205,\n",
       "         1206, 1207, 1208, 1209, 1210, 1211, 1212, 1213, 1214, 1215, 1216,\n",
       "         1217, 1218, 1219, 1220, 1221, 1222, 1223, 1224, 1225, 1226, 1227,\n",
       "         1228, 1229, 1230, 1231, 1232, 1233, 1234, 1235, 1236, 1237, 1238,\n",
       "         1239, 1240, 1241, 1242, 1243, 1244, 1245, 1246, 1247, 1248, 1249,\n",
       "         1250, 1251, 1252, 1253, 1254, 1255, 1256, 1257, 1258, 1259, 1260,\n",
       "         1261, 1262, 1263, 1264, 1265, 1266, 1267, 1268, 1269, 1270, 1271,\n",
       "         1272, 1273, 1274, 1275, 1276, 1277, 1278, 1279, 1280, 1281, 1282,\n",
       "         1283, 1284, 1285, 1286, 1287, 1288, 1289, 1290, 1291, 1292, 1293,\n",
       "         1294, 1295, 1296, 1297, 1298, 1299]))]"
      ]
     },
     "execution_count": 6,
     "metadata": {},
     "output_type": "execute_result"
    }
   ],
   "source": [
    "## Returns train/test inidices for n_folds using StratifiedKFold\n",
    "skf = list(StratifiedKFold(y, n_folds))\n",
    "skf\n"
   ]
  },
  {
   "cell_type": "code",
   "execution_count": 10,
   "metadata": {
    "collapsed": false
   },
   "outputs": [
    {
     "name": "stdout",
     "output_type": "stream",
     "text": [
      "Creating train and test sets for blending.\n"
     ]
    }
   ],
   "source": [
    "## Create a list of models to run\n",
    "clfs = [RandomForestClassifier(n_estimators=10, n_jobs=-1, criterion='gini'),\n",
    "        RandomForestClassifier(n_estimators=10, n_jobs=-1, criterion='entropy'),\n",
    "        ExtraTreesClassifier(n_estimators=10, n_jobs=-1, criterion='gini'),\n",
    "        ExtraTreesClassifier(n_estimators=10, n_jobs=-1, criterion='entropy'),\n",
    "        GradientBoostingClassifier(subsample=0.5, max_depth=6, n_estimators=10)]\n",
    "\n",
    "print \"Creating train and test sets for blending.\"\n"
   ]
  },
  {
   "cell_type": "code",
   "execution_count": 11,
   "metadata": {
    "collapsed": true
   },
   "outputs": [],
   "source": [
    "### Pre-allocate the data\n",
    "### For each model, add a column with N rows for each model\n",
    "dataset_blend_train = np.zeros((X.shape[0], len(clfs)))\n",
    "dataset_blend_test = np.zeros((X_submission.shape[0], len(clfs)))\n"
   ]
  },
  {
   "cell_type": "code",
   "execution_count": 13,
   "metadata": {
    "collapsed": false
   },
   "outputs": [
    {
     "name": "stdout",
     "output_type": "stream",
     "text": [
      "(1300, 5)\n",
      "(497, 5)\n"
     ]
    },
    {
     "data": {
      "text/html": [
       "<div>\n",
       "<table border=\"1\" class=\"dataframe\">\n",
       "  <thead>\n",
       "    <tr style=\"text-align: right;\">\n",
       "      <th></th>\n",
       "      <th>0</th>\n",
       "      <th>1</th>\n",
       "      <th>2</th>\n",
       "      <th>3</th>\n",
       "      <th>4</th>\n",
       "    </tr>\n",
       "  </thead>\n",
       "  <tbody>\n",
       "    <tr>\n",
       "      <th>0</th>\n",
       "      <td>0</td>\n",
       "      <td>0</td>\n",
       "      <td>0</td>\n",
       "      <td>0</td>\n",
       "      <td>0</td>\n",
       "    </tr>\n",
       "    <tr>\n",
       "      <th>1</th>\n",
       "      <td>0</td>\n",
       "      <td>0</td>\n",
       "      <td>0</td>\n",
       "      <td>0</td>\n",
       "      <td>0</td>\n",
       "    </tr>\n",
       "    <tr>\n",
       "      <th>2</th>\n",
       "      <td>0</td>\n",
       "      <td>0</td>\n",
       "      <td>0</td>\n",
       "      <td>0</td>\n",
       "      <td>0</td>\n",
       "    </tr>\n",
       "    <tr>\n",
       "      <th>3</th>\n",
       "      <td>0</td>\n",
       "      <td>0</td>\n",
       "      <td>0</td>\n",
       "      <td>0</td>\n",
       "      <td>0</td>\n",
       "    </tr>\n",
       "    <tr>\n",
       "      <th>4</th>\n",
       "      <td>0</td>\n",
       "      <td>0</td>\n",
       "      <td>0</td>\n",
       "      <td>0</td>\n",
       "      <td>0</td>\n",
       "    </tr>\n",
       "  </tbody>\n",
       "</table>\n",
       "</div>"
      ],
      "text/plain": [
       "   0  1  2  3  4\n",
       "0  0  0  0  0  0\n",
       "1  0  0  0  0  0\n",
       "2  0  0  0  0  0\n",
       "3  0  0  0  0  0\n",
       "4  0  0  0  0  0"
      ]
     },
     "execution_count": 13,
     "metadata": {},
     "output_type": "execute_result"
    }
   ],
   "source": [
    "print np.shape(dataset_blend_train)\n",
    "print np.shape(dataset_blend_test)\n",
    "pd.DataFrame(dataset_blend_train).head()\n"
   ]
  },
  {
   "cell_type": "code",
   "execution_count": 14,
   "metadata": {
    "collapsed": false
   },
   "outputs": [
    {
     "name": "stdout",
     "output_type": "stream",
     "text": [
      "0 RandomForestClassifier(bootstrap=True, class_weight=None, criterion='gini',\n",
      "            max_depth=None, max_features='auto', max_leaf_nodes=None,\n",
      "            min_samples_leaf=1, min_samples_split=2,\n",
      "            min_weight_fraction_leaf=0.0, n_estimators=10, n_jobs=-1,\n",
      "            oob_score=False, random_state=None, verbose=0,\n",
      "            warm_start=False)\n",
      "(497, 5)\n",
      "Fold 0\n",
      "Fold 1\n",
      "Fold 2\n",
      "Fold 3\n",
      "Fold 4\n",
      "1 RandomForestClassifier(bootstrap=True, class_weight=None, criterion='entropy',\n",
      "            max_depth=None, max_features='auto', max_leaf_nodes=None,\n",
      "            min_samples_leaf=1, min_samples_split=2,\n",
      "            min_weight_fraction_leaf=0.0, n_estimators=10, n_jobs=-1,\n",
      "            oob_score=False, random_state=None, verbose=0,\n",
      "            warm_start=False)\n",
      "(497, 5)\n",
      "Fold 0\n",
      "Fold 1\n",
      "Fold 2\n",
      "Fold 3\n",
      "Fold 4\n",
      "2 ExtraTreesClassifier(bootstrap=False, class_weight=None, criterion='gini',\n",
      "           max_depth=None, max_features='auto', max_leaf_nodes=None,\n",
      "           min_samples_leaf=1, min_samples_split=2,\n",
      "           min_weight_fraction_leaf=0.0, n_estimators=10, n_jobs=-1,\n",
      "           oob_score=False, random_state=None, verbose=0, warm_start=False)\n",
      "(497, 5)\n",
      "Fold 0\n",
      "Fold 1\n",
      "Fold 2\n",
      "Fold 3\n",
      "Fold 4\n",
      "3 ExtraTreesClassifier(bootstrap=False, class_weight=None, criterion='entropy',\n",
      "           max_depth=None, max_features='auto', max_leaf_nodes=None,\n",
      "           min_samples_leaf=1, min_samples_split=2,\n",
      "           min_weight_fraction_leaf=0.0, n_estimators=10, n_jobs=-1,\n",
      "           oob_score=False, random_state=None, verbose=0, warm_start=False)\n",
      "(497, 5)\n",
      "Fold 0\n",
      "Fold 1\n",
      "Fold 2\n",
      "Fold 3\n",
      "Fold 4\n",
      "4 GradientBoostingClassifier(init=None, learning_rate=0.1, loss='deviance',\n",
      "              max_depth=6, max_features=None, max_leaf_nodes=None,\n",
      "              min_samples_leaf=1, min_samples_split=2,\n",
      "              min_weight_fraction_leaf=0.0, n_estimators=10,\n",
      "              random_state=None, subsample=0.5, verbose=0,\n",
      "              warm_start=False)\n",
      "(497, 5)\n",
      "Fold 0\n",
      "Fold 1\n",
      "Fold 2\n",
      "Fold 3\n",
      "Fold 4\n"
     ]
    }
   ],
   "source": [
    "### Loop over the models\n",
    "for j, clf in enumerate(clfs):\n",
    "    print j, clf\n",
    "    \n",
    "    ### Create a tempory array that is (Holdout_Size, N_Folds).\n",
    "    ### Number of testing data x Number of folds , we will take the mean of the predictions later\n",
    "    dataset_blend_test_j = np.zeros((X_submission.shape[0], len(skf)))\n",
    "    print np.shape(dataset_blend_test_j)\n",
    "    \n",
    "    ### Loop over the folds\n",
    "    for i, (train, test) in enumerate(skf):\n",
    "        print \"Fold\", i\n",
    "        \n",
    "        ### Extract and fit the train/test section for each fold\n",
    "        X_train = X[train]\n",
    "        y_train = y[train]\n",
    "        X_test  = X[test]\n",
    "        y_test  = y[test]\n",
    "        clf.fit(X_train, y_train)\n",
    "        \n",
    "        ### Predict the probability of current folds test set and store results.\n",
    "        ### This output will be the basis for our blended classifier to train against,\n",
    "        ### which is also the output of our classifiers\n",
    "        dataset_blend_train[test, j] = clf.predict_proba(X_test)[:,1]\n",
    "        \n",
    "        ### Predict the probabilty for the holdout set and store results\n",
    "        dataset_blend_test_j[:, i] = clf.predict_proba(X_submission)[:,1]\n",
    "\n",
    "    ### Take mean of final holdout set folds\n",
    "    dataset_blend_test[:,j] = dataset_blend_test_j.mean(1)\n",
    "    "
   ]
  },
  {
   "cell_type": "code",
   "execution_count": 15,
   "metadata": {
    "collapsed": false
   },
   "outputs": [
    {
     "data": {
      "text/html": [
       "<div>\n",
       "<table border=\"1\" class=\"dataframe\">\n",
       "  <thead>\n",
       "    <tr style=\"text-align: right;\">\n",
       "      <th></th>\n",
       "      <th>0</th>\n",
       "      <th>1</th>\n",
       "      <th>2</th>\n",
       "      <th>3</th>\n",
       "      <th>4</th>\n",
       "    </tr>\n",
       "  </thead>\n",
       "  <tbody>\n",
       "    <tr>\n",
       "      <th>0</th>\n",
       "      <td>0.00</td>\n",
       "      <td>0.00</td>\n",
       "      <td>0.00</td>\n",
       "      <td>0.00</td>\n",
       "      <td>0.022828</td>\n",
       "    </tr>\n",
       "    <tr>\n",
       "      <th>1</th>\n",
       "      <td>0.02</td>\n",
       "      <td>0.02</td>\n",
       "      <td>0.00</td>\n",
       "      <td>0.02</td>\n",
       "      <td>0.049683</td>\n",
       "    </tr>\n",
       "    <tr>\n",
       "      <th>2</th>\n",
       "      <td>0.00</td>\n",
       "      <td>0.00</td>\n",
       "      <td>0.00</td>\n",
       "      <td>0.00</td>\n",
       "      <td>0.025010</td>\n",
       "    </tr>\n",
       "    <tr>\n",
       "      <th>3</th>\n",
       "      <td>0.12</td>\n",
       "      <td>0.12</td>\n",
       "      <td>0.08</td>\n",
       "      <td>0.12</td>\n",
       "      <td>0.104259</td>\n",
       "    </tr>\n",
       "    <tr>\n",
       "      <th>4</th>\n",
       "      <td>0.00</td>\n",
       "      <td>0.04</td>\n",
       "      <td>0.00</td>\n",
       "      <td>0.00</td>\n",
       "      <td>0.020743</td>\n",
       "    </tr>\n",
       "  </tbody>\n",
       "</table>\n",
       "</div>"
      ],
      "text/plain": [
       "      0     1     2     3         4\n",
       "0  0.00  0.00  0.00  0.00  0.022828\n",
       "1  0.02  0.02  0.00  0.02  0.049683\n",
       "2  0.00  0.00  0.00  0.00  0.025010\n",
       "3  0.12  0.12  0.08  0.12  0.104259\n",
       "4  0.00  0.04  0.00  0.00  0.020743"
      ]
     },
     "execution_count": 15,
     "metadata": {},
     "output_type": "execute_result"
    }
   ],
   "source": [
    "pd.DataFrame(dataset_blend_test).head()\n"
   ]
  },
  {
   "cell_type": "code",
   "execution_count": 16,
   "metadata": {
    "collapsed": false
   },
   "outputs": [
    {
     "data": {
      "text/html": [
       "<div>\n",
       "<table border=\"1\" class=\"dataframe\">\n",
       "  <thead>\n",
       "    <tr style=\"text-align: right;\">\n",
       "      <th></th>\n",
       "      <th>0</th>\n",
       "      <th>1</th>\n",
       "      <th>2</th>\n",
       "      <th>3</th>\n",
       "      <th>4</th>\n",
       "    </tr>\n",
       "  </thead>\n",
       "  <tbody>\n",
       "    <tr>\n",
       "      <th>0</th>\n",
       "      <td>0.0</td>\n",
       "      <td>0.0</td>\n",
       "      <td>0.0</td>\n",
       "      <td>0.0</td>\n",
       "      <td>0.021835</td>\n",
       "    </tr>\n",
       "    <tr>\n",
       "      <th>1</th>\n",
       "      <td>0.7</td>\n",
       "      <td>0.8</td>\n",
       "      <td>0.8</td>\n",
       "      <td>0.9</td>\n",
       "      <td>0.863027</td>\n",
       "    </tr>\n",
       "    <tr>\n",
       "      <th>2</th>\n",
       "      <td>0.3</td>\n",
       "      <td>0.1</td>\n",
       "      <td>0.1</td>\n",
       "      <td>0.2</td>\n",
       "      <td>0.030591</td>\n",
       "    </tr>\n",
       "    <tr>\n",
       "      <th>3</th>\n",
       "      <td>0.0</td>\n",
       "      <td>0.0</td>\n",
       "      <td>0.0</td>\n",
       "      <td>0.0</td>\n",
       "      <td>0.027669</td>\n",
       "    </tr>\n",
       "    <tr>\n",
       "      <th>4</th>\n",
       "      <td>0.0</td>\n",
       "      <td>0.1</td>\n",
       "      <td>0.1</td>\n",
       "      <td>0.0</td>\n",
       "      <td>0.072673</td>\n",
       "    </tr>\n",
       "  </tbody>\n",
       "</table>\n",
       "</div>"
      ],
      "text/plain": [
       "     0    1    2    3         4\n",
       "0  0.0  0.0  0.0  0.0  0.021835\n",
       "1  0.7  0.8  0.8  0.9  0.863027\n",
       "2  0.3  0.1  0.1  0.2  0.030591\n",
       "3  0.0  0.0  0.0  0.0  0.027669\n",
       "4  0.0  0.1  0.1  0.0  0.072673"
      ]
     },
     "execution_count": 16,
     "metadata": {},
     "output_type": "execute_result"
    }
   ],
   "source": [
    "pd.DataFrame(dataset_blend_train).head()\n"
   ]
  },
  {
   "cell_type": "code",
   "execution_count": 18,
   "metadata": {
    "collapsed": false
   },
   "outputs": [
    {
     "name": "stdout",
     "output_type": "stream",
     "text": [
      "Blending....\n"
     ]
    }
   ],
   "source": [
    "### We now have a new dataset with dimensions (N_train X N_models)\n",
    "### Fit a logistic regression and predict on blended holdout set\n",
    "print \"Blending....\"\n",
    "clf = LogisticRegression()\n",
    "clf.fit(dataset_blend_train, y)\n",
    "y_submission = clf.predict_proba(dataset_blend_test)[:,1]\n"
   ]
  },
  {
   "cell_type": "code",
   "execution_count": 20,
   "metadata": {
    "collapsed": false
   },
   "outputs": [
    {
     "data": {
      "text/html": [
       "<div>\n",
       "<table border=\"1\" class=\"dataframe\">\n",
       "  <thead>\n",
       "    <tr style=\"text-align: right;\">\n",
       "      <th></th>\n",
       "      <th>0</th>\n",
       "    </tr>\n",
       "  </thead>\n",
       "  <tbody>\n",
       "    <tr>\n",
       "      <th>0</th>\n",
       "      <td>0.007378</td>\n",
       "    </tr>\n",
       "    <tr>\n",
       "      <th>1</th>\n",
       "      <td>0.009760</td>\n",
       "    </tr>\n",
       "    <tr>\n",
       "      <th>2</th>\n",
       "      <td>0.007434</td>\n",
       "    </tr>\n",
       "    <tr>\n",
       "      <th>3</th>\n",
       "      <td>0.035971</td>\n",
       "    </tr>\n",
       "    <tr>\n",
       "      <th>4</th>\n",
       "      <td>0.008266</td>\n",
       "    </tr>\n",
       "  </tbody>\n",
       "</table>\n",
       "</div>"
      ],
      "text/plain": [
       "          0\n",
       "0  0.007378\n",
       "1  0.009760\n",
       "2  0.007434\n",
       "3  0.035971\n",
       "4  0.008266"
      ]
     },
     "execution_count": 20,
     "metadata": {},
     "output_type": "execute_result"
    }
   ],
   "source": [
    "pd.DataFrame(y_submission).head()\n"
   ]
  },
  {
   "cell_type": "code",
   "execution_count": 22,
   "metadata": {
    "collapsed": false
   },
   "outputs": [
    {
     "name": "stdout",
     "output_type": "stream",
     "text": [
      "Linear stretch of predictions to [0,1]\n"
     ]
    }
   ],
   "source": [
    "print \"Linear stretch of predictions to [0,1]\"\n",
    "y_submission = (y_submission - y_submission.min()) / (y_submission.max() - y_submission.min())\n"
   ]
  },
  {
   "cell_type": "code",
   "execution_count": 23,
   "metadata": {
    "collapsed": false
   },
   "outputs": [
    {
     "data": {
      "text/html": [
       "<div>\n",
       "<table border=\"1\" class=\"dataframe\">\n",
       "  <thead>\n",
       "    <tr style=\"text-align: right;\">\n",
       "      <th></th>\n",
       "      <th>0</th>\n",
       "    </tr>\n",
       "  </thead>\n",
       "  <tbody>\n",
       "    <tr>\n",
       "      <th>0</th>\n",
       "      <td>0.000164</td>\n",
       "    </tr>\n",
       "    <tr>\n",
       "      <th>1</th>\n",
       "      <td>0.002936</td>\n",
       "    </tr>\n",
       "    <tr>\n",
       "      <th>2</th>\n",
       "      <td>0.000229</td>\n",
       "    </tr>\n",
       "    <tr>\n",
       "      <th>3</th>\n",
       "      <td>0.033435</td>\n",
       "    </tr>\n",
       "    <tr>\n",
       "      <th>4</th>\n",
       "      <td>0.001197</td>\n",
       "    </tr>\n",
       "  </tbody>\n",
       "</table>\n",
       "</div>"
      ],
      "text/plain": [
       "          0\n",
       "0  0.000164\n",
       "1  0.002936\n",
       "2  0.000229\n",
       "3  0.033435\n",
       "4  0.001197"
      ]
     },
     "execution_count": 23,
     "metadata": {},
     "output_type": "execute_result"
    }
   ],
   "source": [
    "pd.DataFrame(y_submission).head()\n"
   ]
  },
  {
   "cell_type": "code",
   "execution_count": null,
   "metadata": {
    "collapsed": true
   },
   "outputs": [],
   "source": []
  }
 ],
 "metadata": {
  "kernelspec": {
   "display_name": "Python 2",
   "language": "python",
   "name": "python2"
  },
  "language_info": {
   "codemirror_mode": {
    "name": "ipython",
    "version": 2
   },
   "file_extension": ".py",
   "mimetype": "text/x-python",
   "name": "python",
   "nbconvert_exporter": "python",
   "pygments_lexer": "ipython2",
   "version": "2.7.10"
  }
 },
 "nbformat": 4,
 "nbformat_minor": 0
}
