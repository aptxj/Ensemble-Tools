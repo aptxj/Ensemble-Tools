{
 "cells": [
  {
   "cell_type": "code",
   "execution_count": 49,
   "metadata": {
    "collapsed": false
   },
   "outputs": [],
   "source": [
    "'''\n",
    "[Model Stacking -- CV]\n",
    "\n",
    "\n",
    "Overivew: Using CV on the training data to generate new meta feeatures\n",
    "for the training and test set. The output is used as the input to the final model\n",
    "\n",
    "Purpose: Two stage model. We use multiple classifiers at the base-stage to generate additional (prediction) features. \n",
    "A single meta-classifier is then used to make a final prediction\n",
    "\n",
    "\n",
    "See: https://github.com/emanuele/kaggle_pbr/blob/master/blend.py\n",
    "     http://mlwave.com/kaggle-ensembling-guide/ \n",
    "     https://github.com/MLWave/Kaggle-Ensemble-Guide\n",
    "\n",
    "'''\n",
    "\n",
    "from __future__ import division\n",
    "import numpy as np\n",
    "from sklearn.cross_validation import StratifiedKFold\n",
    "from sklearn.ensemble import RandomForestClassifier, ExtraTreesClassifier, GradientBoostingClassifier\n",
    "from sklearn.linear_model import LogisticRegression\n",
    "import pandas as pd\n",
    "from sklearn.datasets import make_moons, make_circles, make_classification\n",
    "from sklearn.metrics import accuracy_score, auc, roc_curve, roc_auc_score "
   ]
  },
  {
   "cell_type": "code",
   "execution_count": 18,
   "metadata": {
    "collapsed": true
   },
   "outputs": [],
   "source": [
    "### Pick your paramters\n",
    "n_folds = 4\n",
    "verbose = True\n",
    "shuffle = False"
   ]
  },
  {
   "cell_type": "code",
   "execution_count": 19,
   "metadata": {
    "collapsed": true
   },
   "outputs": [],
   "source": [
    "### Load some data\n",
    "X, y = make_classification(n_samples=2000, n_features=20, n_informative=12, \n",
    "                           n_redundant=2, n_repeated=0, n_classes=2)\n",
    "X, X_submission = X[0:1300],X[1300:]\n",
    "y, y_submission_actual = y[0:1300],y[1300:]\n"
   ]
  },
  {
   "cell_type": "code",
   "execution_count": 34,
   "metadata": {
    "collapsed": false
   },
   "outputs": [
    {
     "data": {
      "text/html": [
       "<div>\n",
       "<table border=\"1\" class=\"dataframe\">\n",
       "  <thead>\n",
       "    <tr style=\"text-align: right;\">\n",
       "      <th></th>\n",
       "      <th>0</th>\n",
       "      <th>1</th>\n",
       "      <th>2</th>\n",
       "      <th>3</th>\n",
       "      <th>4</th>\n",
       "      <th>5</th>\n",
       "      <th>6</th>\n",
       "      <th>7</th>\n",
       "      <th>8</th>\n",
       "      <th>9</th>\n",
       "      <th>10</th>\n",
       "      <th>11</th>\n",
       "      <th>12</th>\n",
       "      <th>13</th>\n",
       "      <th>14</th>\n",
       "      <th>15</th>\n",
       "      <th>16</th>\n",
       "      <th>17</th>\n",
       "      <th>18</th>\n",
       "      <th>19</th>\n",
       "    </tr>\n",
       "  </thead>\n",
       "  <tbody>\n",
       "    <tr>\n",
       "      <th>0</th>\n",
       "      <td>-0.587458</td>\n",
       "      <td>2.312875</td>\n",
       "      <td>-1.795392</td>\n",
       "      <td>2.070093</td>\n",
       "      <td>0.801752</td>\n",
       "      <td>-2.002577</td>\n",
       "      <td>-1.732090</td>\n",
       "      <td>-0.570551</td>\n",
       "      <td>-0.052151</td>\n",
       "      <td>1.235671</td>\n",
       "      <td>-0.848900</td>\n",
       "      <td>-1.413777</td>\n",
       "      <td>0.630016</td>\n",
       "      <td>-1.049096</td>\n",
       "      <td>-1.999829</td>\n",
       "      <td>-3.107775</td>\n",
       "      <td>-0.256758</td>\n",
       "      <td>-0.150798</td>\n",
       "      <td>2.592104</td>\n",
       "      <td>-5.704150</td>\n",
       "    </tr>\n",
       "    <tr>\n",
       "      <th>1</th>\n",
       "      <td>0.371422</td>\n",
       "      <td>1.277746</td>\n",
       "      <td>1.291201</td>\n",
       "      <td>-1.484950</td>\n",
       "      <td>3.532555</td>\n",
       "      <td>-3.019542</td>\n",
       "      <td>-2.833346</td>\n",
       "      <td>-1.703076</td>\n",
       "      <td>1.685095</td>\n",
       "      <td>-1.029635</td>\n",
       "      <td>-0.826717</td>\n",
       "      <td>-2.870259</td>\n",
       "      <td>0.128208</td>\n",
       "      <td>0.671259</td>\n",
       "      <td>-1.659256</td>\n",
       "      <td>0.312633</td>\n",
       "      <td>1.260473</td>\n",
       "      <td>-0.259492</td>\n",
       "      <td>3.438935</td>\n",
       "      <td>0.815347</td>\n",
       "    </tr>\n",
       "    <tr>\n",
       "      <th>2</th>\n",
       "      <td>4.526131</td>\n",
       "      <td>2.704997</td>\n",
       "      <td>3.610390</td>\n",
       "      <td>-3.143306</td>\n",
       "      <td>-5.375422</td>\n",
       "      <td>-1.416968</td>\n",
       "      <td>-2.041065</td>\n",
       "      <td>-1.967601</td>\n",
       "      <td>1.186167</td>\n",
       "      <td>-1.532093</td>\n",
       "      <td>0.802911</td>\n",
       "      <td>0.671255</td>\n",
       "      <td>0.828644</td>\n",
       "      <td>-0.860931</td>\n",
       "      <td>0.511966</td>\n",
       "      <td>2.398668</td>\n",
       "      <td>1.907236</td>\n",
       "      <td>-0.549800</td>\n",
       "      <td>0.293058</td>\n",
       "      <td>9.708642</td>\n",
       "    </tr>\n",
       "    <tr>\n",
       "      <th>3</th>\n",
       "      <td>-0.302004</td>\n",
       "      <td>-0.527073</td>\n",
       "      <td>-2.546504</td>\n",
       "      <td>-2.752022</td>\n",
       "      <td>6.533970</td>\n",
       "      <td>-1.704109</td>\n",
       "      <td>0.155528</td>\n",
       "      <td>-2.996518</td>\n",
       "      <td>0.318710</td>\n",
       "      <td>-2.268114</td>\n",
       "      <td>-0.544799</td>\n",
       "      <td>1.665569</td>\n",
       "      <td>0.605971</td>\n",
       "      <td>-1.500614</td>\n",
       "      <td>-2.761442</td>\n",
       "      <td>0.210916</td>\n",
       "      <td>2.985868</td>\n",
       "      <td>-0.892415</td>\n",
       "      <td>3.704173</td>\n",
       "      <td>-0.891367</td>\n",
       "    </tr>\n",
       "    <tr>\n",
       "      <th>4</th>\n",
       "      <td>1.545038</td>\n",
       "      <td>-1.035951</td>\n",
       "      <td>3.783695</td>\n",
       "      <td>-0.708187</td>\n",
       "      <td>-3.243478</td>\n",
       "      <td>-0.012637</td>\n",
       "      <td>-1.327421</td>\n",
       "      <td>1.900750</td>\n",
       "      <td>-1.582615</td>\n",
       "      <td>-0.425066</td>\n",
       "      <td>-0.632326</td>\n",
       "      <td>3.039312</td>\n",
       "      <td>-1.456517</td>\n",
       "      <td>-1.861158</td>\n",
       "      <td>0.809570</td>\n",
       "      <td>-1.627826</td>\n",
       "      <td>-0.284479</td>\n",
       "      <td>-0.659042</td>\n",
       "      <td>2.986714</td>\n",
       "      <td>6.540541</td>\n",
       "    </tr>\n",
       "  </tbody>\n",
       "</table>\n",
       "</div>"
      ],
      "text/plain": [
       "         0         1         2         3         4         5         6   \\\n",
       "0 -0.587458  2.312875 -1.795392  2.070093  0.801752 -2.002577 -1.732090   \n",
       "1  0.371422  1.277746  1.291201 -1.484950  3.532555 -3.019542 -2.833346   \n",
       "2  4.526131  2.704997  3.610390 -3.143306 -5.375422 -1.416968 -2.041065   \n",
       "3 -0.302004 -0.527073 -2.546504 -2.752022  6.533970 -1.704109  0.155528   \n",
       "4  1.545038 -1.035951  3.783695 -0.708187 -3.243478 -0.012637 -1.327421   \n",
       "\n",
       "         7         8         9         10        11        12        13  \\\n",
       "0 -0.570551 -0.052151  1.235671 -0.848900 -1.413777  0.630016 -1.049096   \n",
       "1 -1.703076  1.685095 -1.029635 -0.826717 -2.870259  0.128208  0.671259   \n",
       "2 -1.967601  1.186167 -1.532093  0.802911  0.671255  0.828644 -0.860931   \n",
       "3 -2.996518  0.318710 -2.268114 -0.544799  1.665569  0.605971 -1.500614   \n",
       "4  1.900750 -1.582615 -0.425066 -0.632326  3.039312 -1.456517 -1.861158   \n",
       "\n",
       "         14        15        16        17        18        19  \n",
       "0 -1.999829 -3.107775 -0.256758 -0.150798  2.592104 -5.704150  \n",
       "1 -1.659256  0.312633  1.260473 -0.259492  3.438935  0.815347  \n",
       "2  0.511966  2.398668  1.907236 -0.549800  0.293058  9.708642  \n",
       "3 -2.761442  0.210916  2.985868 -0.892415  3.704173 -0.891367  \n",
       "4  0.809570 -1.627826 -0.284479 -0.659042  2.986714  6.540541  "
      ]
     },
     "execution_count": 34,
     "metadata": {},
     "output_type": "execute_result"
    }
   ],
   "source": [
    "pd.DataFrame(X).head()"
   ]
  },
  {
   "cell_type": "code",
   "execution_count": 20,
   "metadata": {
    "collapsed": false
   },
   "outputs": [
    {
     "name": "stdout",
     "output_type": "stream",
     "text": [
      "(1300, 20)\n",
      "(700, 20)\n",
      "(1300,)\n"
     ]
    }
   ],
   "source": [
    "print np.shape(X)\n",
    "print np.shape(X_submission)\n",
    "print np.shape(y)"
   ]
  },
  {
   "cell_type": "code",
   "execution_count": 21,
   "metadata": {
    "collapsed": false
   },
   "outputs": [],
   "source": [
    "### Can introduce another round of randomness by shuffleing around the indices\n",
    "if shuffle:\n",
    "    idx = np.random.permutation(y.size)\n",
    "    X = X[idx]\n",
    "    y = y[idx]\n",
    "    "
   ]
  },
  {
   "cell_type": "code",
   "execution_count": 22,
   "metadata": {
    "collapsed": false,
    "scrolled": true
   },
   "outputs": [],
   "source": [
    "## Returns train/test inidices for n_folds using StratifiedKFold\n",
    "skf = list(StratifiedKFold(y, n_folds))\n",
    "#skf"
   ]
  },
  {
   "cell_type": "code",
   "execution_count": 23,
   "metadata": {
    "collapsed": false
   },
   "outputs": [
    {
     "name": "stdout",
     "output_type": "stream",
     "text": [
      "Creating train and test sets for blending.\n"
     ]
    }
   ],
   "source": [
    "## Create a list of models to run\n",
    "clfs = [RandomForestClassifier(n_estimators=10,   n_jobs=-1, criterion='gini'),\n",
    "        RandomForestClassifier(n_estimators=10,   n_jobs=-1, criterion='entropy'),\n",
    "        ExtraTreesClassifier(n_estimators=10,     n_jobs=-1, criterion='gini'),\n",
    "        ExtraTreesClassifier(n_estimators=10,     n_jobs=-1, criterion='entropy'),\n",
    "        GradientBoostingClassifier(subsample=0.5, max_depth=6, n_estimators=10)]\n",
    "\n",
    "print \"Creating train and test sets for blending.\""
   ]
  },
  {
   "cell_type": "code",
   "execution_count": 24,
   "metadata": {
    "collapsed": true
   },
   "outputs": [],
   "source": [
    "### Pre-allocate the data\n",
    "### For each model, add a column with N rows for each model\n",
    "dataset_blend_train = np.zeros((X.shape[0], len(clfs)))\n",
    "dataset_blend_test = np.zeros((X_submission.shape[0], len(clfs)))"
   ]
  },
  {
   "cell_type": "code",
   "execution_count": 25,
   "metadata": {
    "collapsed": false
   },
   "outputs": [
    {
     "name": "stdout",
     "output_type": "stream",
     "text": [
      "(1300, 5)\n",
      "(700, 5)\n"
     ]
    },
    {
     "data": {
      "text/html": [
       "<div>\n",
       "<table border=\"1\" class=\"dataframe\">\n",
       "  <thead>\n",
       "    <tr style=\"text-align: right;\">\n",
       "      <th></th>\n",
       "      <th>0</th>\n",
       "      <th>1</th>\n",
       "      <th>2</th>\n",
       "      <th>3</th>\n",
       "      <th>4</th>\n",
       "    </tr>\n",
       "  </thead>\n",
       "  <tbody>\n",
       "    <tr>\n",
       "      <th>0</th>\n",
       "      <td>0</td>\n",
       "      <td>0</td>\n",
       "      <td>0</td>\n",
       "      <td>0</td>\n",
       "      <td>0</td>\n",
       "    </tr>\n",
       "    <tr>\n",
       "      <th>1</th>\n",
       "      <td>0</td>\n",
       "      <td>0</td>\n",
       "      <td>0</td>\n",
       "      <td>0</td>\n",
       "      <td>0</td>\n",
       "    </tr>\n",
       "    <tr>\n",
       "      <th>2</th>\n",
       "      <td>0</td>\n",
       "      <td>0</td>\n",
       "      <td>0</td>\n",
       "      <td>0</td>\n",
       "      <td>0</td>\n",
       "    </tr>\n",
       "    <tr>\n",
       "      <th>3</th>\n",
       "      <td>0</td>\n",
       "      <td>0</td>\n",
       "      <td>0</td>\n",
       "      <td>0</td>\n",
       "      <td>0</td>\n",
       "    </tr>\n",
       "    <tr>\n",
       "      <th>4</th>\n",
       "      <td>0</td>\n",
       "      <td>0</td>\n",
       "      <td>0</td>\n",
       "      <td>0</td>\n",
       "      <td>0</td>\n",
       "    </tr>\n",
       "  </tbody>\n",
       "</table>\n",
       "</div>"
      ],
      "text/plain": [
       "   0  1  2  3  4\n",
       "0  0  0  0  0  0\n",
       "1  0  0  0  0  0\n",
       "2  0  0  0  0  0\n",
       "3  0  0  0  0  0\n",
       "4  0  0  0  0  0"
      ]
     },
     "execution_count": 25,
     "metadata": {},
     "output_type": "execute_result"
    }
   ],
   "source": [
    "print np.shape(dataset_blend_train)\n",
    "print np.shape(dataset_blend_test)\n",
    "pd.DataFrame(dataset_blend_train).head()\n"
   ]
  },
  {
   "cell_type": "code",
   "execution_count": 26,
   "metadata": {
    "collapsed": false
   },
   "outputs": [
    {
     "name": "stdout",
     "output_type": "stream",
     "text": [
      "0 RandomForestClassifier(bootstrap=True, class_weight=None, criterion='gini',\n",
      "            max_depth=None, max_features='auto', max_leaf_nodes=None,\n",
      "            min_samples_leaf=1, min_samples_split=2,\n",
      "            min_weight_fraction_leaf=0.0, n_estimators=10, n_jobs=-1,\n",
      "            oob_score=False, random_state=None, verbose=0,\n",
      "            warm_start=False)\n",
      "(700, 4)\n",
      "Fold 0\n",
      "Fold 1\n",
      "Fold 2\n",
      "Fold 3\n",
      "1 RandomForestClassifier(bootstrap=True, class_weight=None, criterion='entropy',\n",
      "            max_depth=None, max_features='auto', max_leaf_nodes=None,\n",
      "            min_samples_leaf=1, min_samples_split=2,\n",
      "            min_weight_fraction_leaf=0.0, n_estimators=10, n_jobs=-1,\n",
      "            oob_score=False, random_state=None, verbose=0,\n",
      "            warm_start=False)\n",
      "(700, 4)\n",
      "Fold 0\n",
      "Fold 1\n",
      "Fold 2\n",
      "Fold 3\n",
      "2 ExtraTreesClassifier(bootstrap=False, class_weight=None, criterion='gini',\n",
      "           max_depth=None, max_features='auto', max_leaf_nodes=None,\n",
      "           min_samples_leaf=1, min_samples_split=2,\n",
      "           min_weight_fraction_leaf=0.0, n_estimators=10, n_jobs=-1,\n",
      "           oob_score=False, random_state=None, verbose=0, warm_start=False)\n",
      "(700, 4)\n",
      "Fold 0\n",
      "Fold 1\n",
      "Fold 2\n",
      "Fold 3\n",
      "3 ExtraTreesClassifier(bootstrap=False, class_weight=None, criterion='entropy',\n",
      "           max_depth=None, max_features='auto', max_leaf_nodes=None,\n",
      "           min_samples_leaf=1, min_samples_split=2,\n",
      "           min_weight_fraction_leaf=0.0, n_estimators=10, n_jobs=-1,\n",
      "           oob_score=False, random_state=None, verbose=0, warm_start=False)\n",
      "(700, 4)\n",
      "Fold 0\n",
      "Fold 1\n",
      "Fold 2\n",
      "Fold 3\n",
      "4 GradientBoostingClassifier(init=None, learning_rate=0.1, loss='deviance',\n",
      "              max_depth=6, max_features=None, max_leaf_nodes=None,\n",
      "              min_samples_leaf=1, min_samples_split=2,\n",
      "              min_weight_fraction_leaf=0.0, n_estimators=10,\n",
      "              random_state=None, subsample=0.5, verbose=0,\n",
      "              warm_start=False)\n",
      "(700, 4)\n",
      "Fold 0\n",
      "Fold 1\n",
      "Fold 2\n",
      "Fold 3\n"
     ]
    }
   ],
   "source": [
    "### Loop over the models\n",
    "for j, clf in enumerate(clfs):\n",
    "    print j, clf\n",
    "    \n",
    "    ### Create a tempory array that is (Holdout_Size, N_Folds).\n",
    "    ### Number of testing data x Number of folds , we will take the mean of the predictions later\n",
    "    dataset_blend_test_j = np.zeros((X_submission.shape[0], len(skf)))\n",
    "    print np.shape(dataset_blend_test_j)\n",
    "    \n",
    "    ### Loop over the folds\n",
    "    for i, (train, test) in enumerate(skf):\n",
    "        print \"Fold\", i\n",
    "        \n",
    "        ### Extract and fit the train/test section for each fold\n",
    "        X_train = X[train]\n",
    "        y_train = y[train]\n",
    "        X_test  = X[test]\n",
    "        y_test  = y[test]\n",
    "        clf.fit(X_train, y_train)\n",
    "        \n",
    "        ### Predict the probability of current folds test set and store results.\n",
    "        ### This output will be the basis for our blended classifier to train against,\n",
    "        ### which is also the output of our classifiers\n",
    "        dataset_blend_train[test, j] = clf.predict_proba(X_test)[:,1]\n",
    "        \n",
    "        ### Predict the probabilty for the holdout set and store results\n",
    "        dataset_blend_test_j[:, i] = clf.predict_proba(X_submission)[:,1]\n",
    "\n",
    "    ### Take mean of final holdout set folds\n",
    "    dataset_blend_test[:,j] = dataset_blend_test_j.mean(1)\n",
    "    "
   ]
  },
  {
   "cell_type": "code",
   "execution_count": 30,
   "metadata": {
    "collapsed": false
   },
   "outputs": [
    {
     "name": "stdout",
     "output_type": "stream",
     "text": [
      "(700, 5)\n"
     ]
    },
    {
     "data": {
      "text/html": [
       "<div>\n",
       "<table border=\"1\" class=\"dataframe\">\n",
       "  <thead>\n",
       "    <tr style=\"text-align: right;\">\n",
       "      <th></th>\n",
       "      <th>0</th>\n",
       "      <th>1</th>\n",
       "      <th>2</th>\n",
       "      <th>3</th>\n",
       "      <th>4</th>\n",
       "    </tr>\n",
       "  </thead>\n",
       "  <tbody>\n",
       "    <tr>\n",
       "      <th>0</th>\n",
       "      <td>0.300</td>\n",
       "      <td>0.250</td>\n",
       "      <td>0.325</td>\n",
       "      <td>0.325</td>\n",
       "      <td>0.265130</td>\n",
       "    </tr>\n",
       "    <tr>\n",
       "      <th>1</th>\n",
       "      <td>0.350</td>\n",
       "      <td>0.175</td>\n",
       "      <td>0.300</td>\n",
       "      <td>0.225</td>\n",
       "      <td>0.238063</td>\n",
       "    </tr>\n",
       "    <tr>\n",
       "      <th>2</th>\n",
       "      <td>0.175</td>\n",
       "      <td>0.125</td>\n",
       "      <td>0.200</td>\n",
       "      <td>0.025</td>\n",
       "      <td>0.185415</td>\n",
       "    </tr>\n",
       "    <tr>\n",
       "      <th>3</th>\n",
       "      <td>0.800</td>\n",
       "      <td>0.950</td>\n",
       "      <td>0.800</td>\n",
       "      <td>0.825</td>\n",
       "      <td>0.726178</td>\n",
       "    </tr>\n",
       "    <tr>\n",
       "      <th>4</th>\n",
       "      <td>0.200</td>\n",
       "      <td>0.100</td>\n",
       "      <td>0.225</td>\n",
       "      <td>0.300</td>\n",
       "      <td>0.295455</td>\n",
       "    </tr>\n",
       "  </tbody>\n",
       "</table>\n",
       "</div>"
      ],
      "text/plain": [
       "       0      1      2      3         4\n",
       "0  0.300  0.250  0.325  0.325  0.265130\n",
       "1  0.350  0.175  0.300  0.225  0.238063\n",
       "2  0.175  0.125  0.200  0.025  0.185415\n",
       "3  0.800  0.950  0.800  0.825  0.726178\n",
       "4  0.200  0.100  0.225  0.300  0.295455"
      ]
     },
     "execution_count": 30,
     "metadata": {},
     "output_type": "execute_result"
    }
   ],
   "source": [
    "print pd.DataFrame(dataset_blend_test).shape\n",
    "pd.DataFrame(dataset_blend_test).head()\n"
   ]
  },
  {
   "cell_type": "code",
   "execution_count": 31,
   "metadata": {
    "collapsed": false
   },
   "outputs": [
    {
     "name": "stdout",
     "output_type": "stream",
     "text": [
      "(1300, 5)\n"
     ]
    },
    {
     "data": {
      "text/html": [
       "<div>\n",
       "<table border=\"1\" class=\"dataframe\">\n",
       "  <thead>\n",
       "    <tr style=\"text-align: right;\">\n",
       "      <th></th>\n",
       "      <th>0</th>\n",
       "      <th>1</th>\n",
       "      <th>2</th>\n",
       "      <th>3</th>\n",
       "      <th>4</th>\n",
       "    </tr>\n",
       "  </thead>\n",
       "  <tbody>\n",
       "    <tr>\n",
       "      <th>0</th>\n",
       "      <td>0.3</td>\n",
       "      <td>0.6</td>\n",
       "      <td>0.7</td>\n",
       "      <td>0.7</td>\n",
       "      <td>0.559007</td>\n",
       "    </tr>\n",
       "    <tr>\n",
       "      <th>1</th>\n",
       "      <td>0.8</td>\n",
       "      <td>0.9</td>\n",
       "      <td>1.0</td>\n",
       "      <td>1.0</td>\n",
       "      <td>0.802332</td>\n",
       "    </tr>\n",
       "    <tr>\n",
       "      <th>2</th>\n",
       "      <td>0.8</td>\n",
       "      <td>0.8</td>\n",
       "      <td>0.7</td>\n",
       "      <td>0.7</td>\n",
       "      <td>0.634365</td>\n",
       "    </tr>\n",
       "    <tr>\n",
       "      <th>3</th>\n",
       "      <td>0.9</td>\n",
       "      <td>0.8</td>\n",
       "      <td>0.9</td>\n",
       "      <td>0.9</td>\n",
       "      <td>0.614409</td>\n",
       "    </tr>\n",
       "    <tr>\n",
       "      <th>4</th>\n",
       "      <td>0.3</td>\n",
       "      <td>0.5</td>\n",
       "      <td>0.5</td>\n",
       "      <td>0.3</td>\n",
       "      <td>0.431464</td>\n",
       "    </tr>\n",
       "  </tbody>\n",
       "</table>\n",
       "</div>"
      ],
      "text/plain": [
       "     0    1    2    3         4\n",
       "0  0.3  0.6  0.7  0.7  0.559007\n",
       "1  0.8  0.9  1.0  1.0  0.802332\n",
       "2  0.8  0.8  0.7  0.7  0.634365\n",
       "3  0.9  0.8  0.9  0.9  0.614409\n",
       "4  0.3  0.5  0.5  0.3  0.431464"
      ]
     },
     "execution_count": 31,
     "metadata": {},
     "output_type": "execute_result"
    }
   ],
   "source": [
    "print pd.DataFrame(dataset_blend_train).shape\n",
    "pd.DataFrame(dataset_blend_train).head()\n"
   ]
  },
  {
   "cell_type": "code",
   "execution_count": 14,
   "metadata": {
    "collapsed": false
   },
   "outputs": [
    {
     "name": "stdout",
     "output_type": "stream",
     "text": [
      "Blending....\n"
     ]
    }
   ],
   "source": [
    "### We now have a new dataset with dimensions (N_train X N_models)\n",
    "### Fit a logistic regression and predict on blended holdout set\n",
    "print \"Blending....\"\n",
    "clf = LogisticRegression()\n",
    "clf.fit(dataset_blend_train, y)\n",
    "y_submission = clf.predict_proba(dataset_blend_test)[:,1]"
   ]
  },
  {
   "cell_type": "code",
   "execution_count": 15,
   "metadata": {
    "collapsed": false
   },
   "outputs": [
    {
     "data": {
      "text/html": [
       "<div>\n",
       "<table border=\"1\" class=\"dataframe\">\n",
       "  <thead>\n",
       "    <tr style=\"text-align: right;\">\n",
       "      <th></th>\n",
       "      <th>0</th>\n",
       "    </tr>\n",
       "  </thead>\n",
       "  <tbody>\n",
       "    <tr>\n",
       "      <th>0</th>\n",
       "      <td>0.097907</td>\n",
       "    </tr>\n",
       "    <tr>\n",
       "      <th>1</th>\n",
       "      <td>0.726669</td>\n",
       "    </tr>\n",
       "    <tr>\n",
       "      <th>2</th>\n",
       "      <td>0.297982</td>\n",
       "    </tr>\n",
       "    <tr>\n",
       "      <th>3</th>\n",
       "      <td>0.963579</td>\n",
       "    </tr>\n",
       "    <tr>\n",
       "      <th>4</th>\n",
       "      <td>0.059891</td>\n",
       "    </tr>\n",
       "  </tbody>\n",
       "</table>\n",
       "</div>"
      ],
      "text/plain": [
       "          0\n",
       "0  0.097907\n",
       "1  0.726669\n",
       "2  0.297982\n",
       "3  0.963579\n",
       "4  0.059891"
      ]
     },
     "execution_count": 15,
     "metadata": {},
     "output_type": "execute_result"
    }
   ],
   "source": [
    "pd.DataFrame(y_submission).head()"
   ]
  },
  {
   "cell_type": "code",
   "execution_count": 16,
   "metadata": {
    "collapsed": false
   },
   "outputs": [
    {
     "name": "stdout",
     "output_type": "stream",
     "text": [
      "Linear stretch of predictions to [0,1]\n"
     ]
    }
   ],
   "source": [
    "print \"Linear stretch of predictions to [0,1]\"\n",
    "y_submission = (y_submission - y_submission.min()) / (y_submission.max() - y_submission.min())"
   ]
  },
  {
   "cell_type": "code",
   "execution_count": 17,
   "metadata": {
    "collapsed": false
   },
   "outputs": [
    {
     "data": {
      "text/html": [
       "<div>\n",
       "<table border=\"1\" class=\"dataframe\">\n",
       "  <thead>\n",
       "    <tr style=\"text-align: right;\">\n",
       "      <th></th>\n",
       "      <th>0</th>\n",
       "    </tr>\n",
       "  </thead>\n",
       "  <tbody>\n",
       "    <tr>\n",
       "      <th>0</th>\n",
       "      <td>0.090006</td>\n",
       "    </tr>\n",
       "    <tr>\n",
       "      <th>1</th>\n",
       "      <td>0.729737</td>\n",
       "    </tr>\n",
       "    <tr>\n",
       "      <th>2</th>\n",
       "      <td>0.293571</td>\n",
       "    </tr>\n",
       "    <tr>\n",
       "      <th>3</th>\n",
       "      <td>0.970780</td>\n",
       "    </tr>\n",
       "    <tr>\n",
       "      <th>4</th>\n",
       "      <td>0.051327</td>\n",
       "    </tr>\n",
       "  </tbody>\n",
       "</table>\n",
       "</div>"
      ],
      "text/plain": [
       "          0\n",
       "0  0.090006\n",
       "1  0.729737\n",
       "2  0.293571\n",
       "3  0.970780\n",
       "4  0.051327"
      ]
     },
     "execution_count": 17,
     "metadata": {},
     "output_type": "execute_result"
    }
   ],
   "source": [
    "pd.DataFrame(y_submission).head()"
   ]
  },
  {
   "cell_type": "code",
   "execution_count": 51,
   "metadata": {
    "collapsed": false
   },
   "outputs": [
    {
     "name": "stdout",
     "output_type": "stream",
     "text": [
      "AUC Score: 0.510005801649\n"
     ]
    }
   ],
   "source": [
    "print \"AUC Score:\",roc_auc_score(y_submission_actual, y_submission)"
   ]
  },
  {
   "cell_type": "code",
   "execution_count": null,
   "metadata": {
    "collapsed": true
   },
   "outputs": [],
   "source": []
  },
  {
   "cell_type": "code",
   "execution_count": 29,
   "metadata": {
    "collapsed": true
   },
   "outputs": [],
   "source": [
    "###############################################################\n",
    "#\n",
    "# We can expand this a bit by adding in a 2 stage model as well.\n",
    "#\n",
    "###############################################################"
   ]
  },
  {
   "cell_type": "code",
   "execution_count": 35,
   "metadata": {
    "collapsed": false
   },
   "outputs": [
    {
     "name": "stdout",
     "output_type": "stream",
     "text": [
      "(1300, 25)\n"
     ]
    },
    {
     "data": {
      "text/html": [
       "<div>\n",
       "<table border=\"1\" class=\"dataframe\">\n",
       "  <thead>\n",
       "    <tr style=\"text-align: right;\">\n",
       "      <th></th>\n",
       "      <th>0</th>\n",
       "      <th>1</th>\n",
       "      <th>2</th>\n",
       "      <th>3</th>\n",
       "      <th>4</th>\n",
       "      <th>5</th>\n",
       "      <th>6</th>\n",
       "      <th>7</th>\n",
       "      <th>8</th>\n",
       "      <th>9</th>\n",
       "      <th>...</th>\n",
       "      <th>15</th>\n",
       "      <th>16</th>\n",
       "      <th>17</th>\n",
       "      <th>18</th>\n",
       "      <th>19</th>\n",
       "      <th>20</th>\n",
       "      <th>21</th>\n",
       "      <th>22</th>\n",
       "      <th>23</th>\n",
       "      <th>24</th>\n",
       "    </tr>\n",
       "  </thead>\n",
       "  <tbody>\n",
       "    <tr>\n",
       "      <th>0</th>\n",
       "      <td>-0.587458</td>\n",
       "      <td>2.312875</td>\n",
       "      <td>-1.795392</td>\n",
       "      <td>2.070093</td>\n",
       "      <td>0.801752</td>\n",
       "      <td>-2.002577</td>\n",
       "      <td>-1.732090</td>\n",
       "      <td>-0.570551</td>\n",
       "      <td>-0.052151</td>\n",
       "      <td>1.235671</td>\n",
       "      <td>...</td>\n",
       "      <td>-3.107775</td>\n",
       "      <td>-0.256758</td>\n",
       "      <td>-0.150798</td>\n",
       "      <td>2.592104</td>\n",
       "      <td>-5.704150</td>\n",
       "      <td>0.3</td>\n",
       "      <td>0.6</td>\n",
       "      <td>0.7</td>\n",
       "      <td>0.7</td>\n",
       "      <td>0.559007</td>\n",
       "    </tr>\n",
       "    <tr>\n",
       "      <th>1</th>\n",
       "      <td>0.371422</td>\n",
       "      <td>1.277746</td>\n",
       "      <td>1.291201</td>\n",
       "      <td>-1.484950</td>\n",
       "      <td>3.532555</td>\n",
       "      <td>-3.019542</td>\n",
       "      <td>-2.833346</td>\n",
       "      <td>-1.703076</td>\n",
       "      <td>1.685095</td>\n",
       "      <td>-1.029635</td>\n",
       "      <td>...</td>\n",
       "      <td>0.312633</td>\n",
       "      <td>1.260473</td>\n",
       "      <td>-0.259492</td>\n",
       "      <td>3.438935</td>\n",
       "      <td>0.815347</td>\n",
       "      <td>0.8</td>\n",
       "      <td>0.9</td>\n",
       "      <td>1.0</td>\n",
       "      <td>1.0</td>\n",
       "      <td>0.802332</td>\n",
       "    </tr>\n",
       "    <tr>\n",
       "      <th>2</th>\n",
       "      <td>4.526131</td>\n",
       "      <td>2.704997</td>\n",
       "      <td>3.610390</td>\n",
       "      <td>-3.143306</td>\n",
       "      <td>-5.375422</td>\n",
       "      <td>-1.416968</td>\n",
       "      <td>-2.041065</td>\n",
       "      <td>-1.967601</td>\n",
       "      <td>1.186167</td>\n",
       "      <td>-1.532093</td>\n",
       "      <td>...</td>\n",
       "      <td>2.398668</td>\n",
       "      <td>1.907236</td>\n",
       "      <td>-0.549800</td>\n",
       "      <td>0.293058</td>\n",
       "      <td>9.708642</td>\n",
       "      <td>0.8</td>\n",
       "      <td>0.8</td>\n",
       "      <td>0.7</td>\n",
       "      <td>0.7</td>\n",
       "      <td>0.634365</td>\n",
       "    </tr>\n",
       "    <tr>\n",
       "      <th>3</th>\n",
       "      <td>-0.302004</td>\n",
       "      <td>-0.527073</td>\n",
       "      <td>-2.546504</td>\n",
       "      <td>-2.752022</td>\n",
       "      <td>6.533970</td>\n",
       "      <td>-1.704109</td>\n",
       "      <td>0.155528</td>\n",
       "      <td>-2.996518</td>\n",
       "      <td>0.318710</td>\n",
       "      <td>-2.268114</td>\n",
       "      <td>...</td>\n",
       "      <td>0.210916</td>\n",
       "      <td>2.985868</td>\n",
       "      <td>-0.892415</td>\n",
       "      <td>3.704173</td>\n",
       "      <td>-0.891367</td>\n",
       "      <td>0.9</td>\n",
       "      <td>0.8</td>\n",
       "      <td>0.9</td>\n",
       "      <td>0.9</td>\n",
       "      <td>0.614409</td>\n",
       "    </tr>\n",
       "    <tr>\n",
       "      <th>4</th>\n",
       "      <td>1.545038</td>\n",
       "      <td>-1.035951</td>\n",
       "      <td>3.783695</td>\n",
       "      <td>-0.708187</td>\n",
       "      <td>-3.243478</td>\n",
       "      <td>-0.012637</td>\n",
       "      <td>-1.327421</td>\n",
       "      <td>1.900750</td>\n",
       "      <td>-1.582615</td>\n",
       "      <td>-0.425066</td>\n",
       "      <td>...</td>\n",
       "      <td>-1.627826</td>\n",
       "      <td>-0.284479</td>\n",
       "      <td>-0.659042</td>\n",
       "      <td>2.986714</td>\n",
       "      <td>6.540541</td>\n",
       "      <td>0.3</td>\n",
       "      <td>0.5</td>\n",
       "      <td>0.5</td>\n",
       "      <td>0.3</td>\n",
       "      <td>0.431464</td>\n",
       "    </tr>\n",
       "  </tbody>\n",
       "</table>\n",
       "<p>5 rows × 25 columns</p>\n",
       "</div>"
      ],
      "text/plain": [
       "         0         1         2         3         4         5         6   \\\n",
       "0 -0.587458  2.312875 -1.795392  2.070093  0.801752 -2.002577 -1.732090   \n",
       "1  0.371422  1.277746  1.291201 -1.484950  3.532555 -3.019542 -2.833346   \n",
       "2  4.526131  2.704997  3.610390 -3.143306 -5.375422 -1.416968 -2.041065   \n",
       "3 -0.302004 -0.527073 -2.546504 -2.752022  6.533970 -1.704109  0.155528   \n",
       "4  1.545038 -1.035951  3.783695 -0.708187 -3.243478 -0.012637 -1.327421   \n",
       "\n",
       "         7         8         9     ...           15        16        17  \\\n",
       "0 -0.570551 -0.052151  1.235671    ...    -3.107775 -0.256758 -0.150798   \n",
       "1 -1.703076  1.685095 -1.029635    ...     0.312633  1.260473 -0.259492   \n",
       "2 -1.967601  1.186167 -1.532093    ...     2.398668  1.907236 -0.549800   \n",
       "3 -2.996518  0.318710 -2.268114    ...     0.210916  2.985868 -0.892415   \n",
       "4  1.900750 -1.582615 -0.425066    ...    -1.627826 -0.284479 -0.659042   \n",
       "\n",
       "         18        19   20   21   22   23        24  \n",
       "0  2.592104 -5.704150  0.3  0.6  0.7  0.7  0.559007  \n",
       "1  3.438935  0.815347  0.8  0.9  1.0  1.0  0.802332  \n",
       "2  0.293058  9.708642  0.8  0.8  0.7  0.7  0.634365  \n",
       "3  3.704173 -0.891367  0.9  0.8  0.9  0.9  0.614409  \n",
       "4  2.986714  6.540541  0.3  0.5  0.5  0.3  0.431464  \n",
       "\n",
       "[5 rows x 25 columns]"
      ]
     },
     "execution_count": 35,
     "metadata": {},
     "output_type": "execute_result"
    }
   ],
   "source": [
    "### Combined the orginal features with the model predictions for training set\n",
    "X_meta = np.column_stack((X, dataset_blend_train))\n",
    "print X_meta.shape\n",
    "pd.DataFrame(X_meta).head()"
   ]
  },
  {
   "cell_type": "code",
   "execution_count": 38,
   "metadata": {
    "collapsed": false
   },
   "outputs": [
    {
     "name": "stdout",
     "output_type": "stream",
     "text": [
      "(700, 25)\n"
     ]
    },
    {
     "data": {
      "text/html": [
       "<div>\n",
       "<table border=\"1\" class=\"dataframe\">\n",
       "  <thead>\n",
       "    <tr style=\"text-align: right;\">\n",
       "      <th></th>\n",
       "      <th>0</th>\n",
       "      <th>1</th>\n",
       "      <th>2</th>\n",
       "      <th>3</th>\n",
       "      <th>4</th>\n",
       "      <th>5</th>\n",
       "      <th>6</th>\n",
       "      <th>7</th>\n",
       "      <th>8</th>\n",
       "      <th>9</th>\n",
       "      <th>...</th>\n",
       "      <th>15</th>\n",
       "      <th>16</th>\n",
       "      <th>17</th>\n",
       "      <th>18</th>\n",
       "      <th>19</th>\n",
       "      <th>20</th>\n",
       "      <th>21</th>\n",
       "      <th>22</th>\n",
       "      <th>23</th>\n",
       "      <th>24</th>\n",
       "    </tr>\n",
       "  </thead>\n",
       "  <tbody>\n",
       "    <tr>\n",
       "      <th>0</th>\n",
       "      <td>0.950449</td>\n",
       "      <td>-2.273414</td>\n",
       "      <td>-2.107039</td>\n",
       "      <td>-1.005434</td>\n",
       "      <td>2.268483</td>\n",
       "      <td>2.406790</td>\n",
       "      <td>1.369929</td>\n",
       "      <td>0.120819</td>\n",
       "      <td>2.143894</td>\n",
       "      <td>-0.142110</td>\n",
       "      <td>...</td>\n",
       "      <td>-0.993104</td>\n",
       "      <td>-3.441775</td>\n",
       "      <td>0.138657</td>\n",
       "      <td>3.179888</td>\n",
       "      <td>-0.184415</td>\n",
       "      <td>0.300</td>\n",
       "      <td>0.250</td>\n",
       "      <td>0.325</td>\n",
       "      <td>0.325</td>\n",
       "      <td>0.265130</td>\n",
       "    </tr>\n",
       "    <tr>\n",
       "      <th>1</th>\n",
       "      <td>4.066744</td>\n",
       "      <td>-1.076676</td>\n",
       "      <td>0.436699</td>\n",
       "      <td>-2.441629</td>\n",
       "      <td>-3.110171</td>\n",
       "      <td>0.184484</td>\n",
       "      <td>1.799227</td>\n",
       "      <td>-0.119878</td>\n",
       "      <td>-0.194908</td>\n",
       "      <td>1.707842</td>\n",
       "      <td>...</td>\n",
       "      <td>-1.018622</td>\n",
       "      <td>1.297823</td>\n",
       "      <td>-0.519726</td>\n",
       "      <td>1.065371</td>\n",
       "      <td>7.983361</td>\n",
       "      <td>0.350</td>\n",
       "      <td>0.175</td>\n",
       "      <td>0.300</td>\n",
       "      <td>0.225</td>\n",
       "      <td>0.238063</td>\n",
       "    </tr>\n",
       "    <tr>\n",
       "      <th>2</th>\n",
       "      <td>2.289910</td>\n",
       "      <td>-1.216001</td>\n",
       "      <td>6.326610</td>\n",
       "      <td>-0.279020</td>\n",
       "      <td>-9.066829</td>\n",
       "      <td>0.982662</td>\n",
       "      <td>2.427150</td>\n",
       "      <td>-1.366244</td>\n",
       "      <td>-0.304032</td>\n",
       "      <td>-0.750019</td>\n",
       "      <td>...</td>\n",
       "      <td>-1.954249</td>\n",
       "      <td>-1.130042</td>\n",
       "      <td>0.012989</td>\n",
       "      <td>1.604757</td>\n",
       "      <td>9.827646</td>\n",
       "      <td>0.175</td>\n",
       "      <td>0.125</td>\n",
       "      <td>0.200</td>\n",
       "      <td>0.025</td>\n",
       "      <td>0.185415</td>\n",
       "    </tr>\n",
       "    <tr>\n",
       "      <th>3</th>\n",
       "      <td>2.015615</td>\n",
       "      <td>-2.531496</td>\n",
       "      <td>1.523174</td>\n",
       "      <td>0.417231</td>\n",
       "      <td>1.243495</td>\n",
       "      <td>-2.403119</td>\n",
       "      <td>-3.699992</td>\n",
       "      <td>0.158596</td>\n",
       "      <td>0.505097</td>\n",
       "      <td>0.065980</td>\n",
       "      <td>...</td>\n",
       "      <td>-0.198233</td>\n",
       "      <td>1.519218</td>\n",
       "      <td>-1.055598</td>\n",
       "      <td>1.981167</td>\n",
       "      <td>1.367160</td>\n",
       "      <td>0.800</td>\n",
       "      <td>0.950</td>\n",
       "      <td>0.800</td>\n",
       "      <td>0.825</td>\n",
       "      <td>0.726178</td>\n",
       "    </tr>\n",
       "    <tr>\n",
       "      <th>4</th>\n",
       "      <td>2.256570</td>\n",
       "      <td>-4.075487</td>\n",
       "      <td>-0.184724</td>\n",
       "      <td>3.616682</td>\n",
       "      <td>-0.015257</td>\n",
       "      <td>0.885972</td>\n",
       "      <td>0.701395</td>\n",
       "      <td>0.508195</td>\n",
       "      <td>-0.015729</td>\n",
       "      <td>-1.092625</td>\n",
       "      <td>...</td>\n",
       "      <td>-1.595470</td>\n",
       "      <td>0.564483</td>\n",
       "      <td>-1.150473</td>\n",
       "      <td>-3.081613</td>\n",
       "      <td>-8.849062</td>\n",
       "      <td>0.200</td>\n",
       "      <td>0.100</td>\n",
       "      <td>0.225</td>\n",
       "      <td>0.300</td>\n",
       "      <td>0.295455</td>\n",
       "    </tr>\n",
       "  </tbody>\n",
       "</table>\n",
       "<p>5 rows × 25 columns</p>\n",
       "</div>"
      ],
      "text/plain": [
       "         0         1         2         3         4         5         6   \\\n",
       "0  0.950449 -2.273414 -2.107039 -1.005434  2.268483  2.406790  1.369929   \n",
       "1  4.066744 -1.076676  0.436699 -2.441629 -3.110171  0.184484  1.799227   \n",
       "2  2.289910 -1.216001  6.326610 -0.279020 -9.066829  0.982662  2.427150   \n",
       "3  2.015615 -2.531496  1.523174  0.417231  1.243495 -2.403119 -3.699992   \n",
       "4  2.256570 -4.075487 -0.184724  3.616682 -0.015257  0.885972  0.701395   \n",
       "\n",
       "         7         8         9     ...           15        16        17  \\\n",
       "0  0.120819  2.143894 -0.142110    ...    -0.993104 -3.441775  0.138657   \n",
       "1 -0.119878 -0.194908  1.707842    ...    -1.018622  1.297823 -0.519726   \n",
       "2 -1.366244 -0.304032 -0.750019    ...    -1.954249 -1.130042  0.012989   \n",
       "3  0.158596  0.505097  0.065980    ...    -0.198233  1.519218 -1.055598   \n",
       "4  0.508195 -0.015729 -1.092625    ...    -1.595470  0.564483 -1.150473   \n",
       "\n",
       "         18        19     20     21     22     23        24  \n",
       "0  3.179888 -0.184415  0.300  0.250  0.325  0.325  0.265130  \n",
       "1  1.065371  7.983361  0.350  0.175  0.300  0.225  0.238063  \n",
       "2  1.604757  9.827646  0.175  0.125  0.200  0.025  0.185415  \n",
       "3  1.981167  1.367160  0.800  0.950  0.800  0.825  0.726178  \n",
       "4 -3.081613 -8.849062  0.200  0.100  0.225  0.300  0.295455  \n",
       "\n",
       "[5 rows x 25 columns]"
      ]
     },
     "execution_count": 38,
     "metadata": {},
     "output_type": "execute_result"
    }
   ],
   "source": [
    "### Combined the orginal features with the model predictions for testing set\n",
    "X_submission_meta = np.column_stack((X_submission, dataset_blend_test))\n",
    "print X_submission_meta.shape\n",
    "pd.DataFrame(X_submission_meta).head()"
   ]
  },
  {
   "cell_type": "code",
   "execution_count": 41,
   "metadata": {
    "collapsed": false
   },
   "outputs": [],
   "source": [
    "### Build the meta classifier\n",
    "### Can also use several classifiers here and ensemble them together\n",
    "meta_classifier = RandomForestClassifier(n_estimators=10,   n_jobs=-1, criterion='gini')\n",
    "meta_classifier.fit(X_meta,y)\n",
    "y_submission_meta = meta_classifier.predict_proba(X_submission_meta)[:,1]"
   ]
  },
  {
   "cell_type": "code",
   "execution_count": 42,
   "metadata": {
    "collapsed": false
   },
   "outputs": [
    {
     "data": {
      "text/html": [
       "<div>\n",
       "<table border=\"1\" class=\"dataframe\">\n",
       "  <thead>\n",
       "    <tr style=\"text-align: right;\">\n",
       "      <th></th>\n",
       "      <th>0</th>\n",
       "    </tr>\n",
       "  </thead>\n",
       "  <tbody>\n",
       "    <tr>\n",
       "      <th>0</th>\n",
       "      <td>0.0</td>\n",
       "    </tr>\n",
       "    <tr>\n",
       "      <th>1</th>\n",
       "      <td>0.1</td>\n",
       "    </tr>\n",
       "    <tr>\n",
       "      <th>2</th>\n",
       "      <td>0.0</td>\n",
       "    </tr>\n",
       "    <tr>\n",
       "      <th>3</th>\n",
       "      <td>1.0</td>\n",
       "    </tr>\n",
       "    <tr>\n",
       "      <th>4</th>\n",
       "      <td>0.0</td>\n",
       "    </tr>\n",
       "  </tbody>\n",
       "</table>\n",
       "</div>"
      ],
      "text/plain": [
       "     0\n",
       "0  0.0\n",
       "1  0.1\n",
       "2  0.0\n",
       "3  1.0\n",
       "4  0.0"
      ]
     },
     "execution_count": 42,
     "metadata": {},
     "output_type": "execute_result"
    }
   ],
   "source": [
    "pd.DataFrame(y_submission_meta).head()"
   ]
  },
  {
   "cell_type": "code",
   "execution_count": 52,
   "metadata": {
    "collapsed": false
   },
   "outputs": [
    {
     "name": "stdout",
     "output_type": "stream",
     "text": [
      "AUC Score: 0.959065689375\n"
     ]
    }
   ],
   "source": [
    "print \"AUC Score:\",roc_auc_score(y_submission_actual, y_submission_meta)"
   ]
  },
  {
   "cell_type": "code",
   "execution_count": null,
   "metadata": {
    "collapsed": true
   },
   "outputs": [],
   "source": []
  }
 ],
 "metadata": {
  "kernelspec": {
   "display_name": "Python 2",
   "language": "python",
   "name": "python2"
  },
  "language_info": {
   "codemirror_mode": {
    "name": "ipython",
    "version": 2
   },
   "file_extension": ".py",
   "mimetype": "text/x-python",
   "name": "python",
   "nbconvert_exporter": "python",
   "pygments_lexer": "ipython2",
   "version": "2.7.10"
  }
 },
 "nbformat": 4,
 "nbformat_minor": 0
}
